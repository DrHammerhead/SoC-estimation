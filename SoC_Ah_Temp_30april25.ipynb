{
 "cells": [
  {
   "cell_type": "markdown",
   "id": "bdf2f2fb-0bfe-4625-a1a7-28f418b2e609",
   "metadata": {},
   "source": [
    "How Temperature Affects Coulomb Counting\n",
    "a. Battery Capacity Is Temperature-Dependent\n",
    "Battery capacity \n",
    "𝐶\n",
    "C decreases at low temperatures because:\n",
    "\n",
    "Electrochemical reactions slow down\n",
    "\n",
    "Internal resistance increases\n",
    "\n",
    "Some capacity becomes inaccessible\n",
    "\n",
    "Example:\n",
    "A 100Ah battery might only deliver ~80Ah at -10°C.\n",
    "\n",
    "➡️ Coulomb counting will overestimate SoC at low temps, since it assumes a fixed 100Ah.\n",
    "\n",
    "b. Current Sensor Drift\n",
    "Shunt-based or Hall-effect current sensors can drift with temperature, leading to:\n",
    "\n",
    "Small, systematic errors in current\n",
    "\n",
    "Which accumulate into significant SoC errors over time\n",
    "\n",
    "➡️ Thermal compensation is often needed in sensor electronics.\n",
    "\n",
    "c. Self-Discharge and Parasitic Losses\n",
    "These increase with temperature:\n",
    "\n",
    "Coulomb counting doesn't track self-discharge\n",
    "\n",
    "High temperatures make this worse\n",
    "\n",
    "➡️ Coulomb counting underestimates SoC at high temps if not corrected.\n",
    "\n",
    "d. Internal Resistance & Peukert Effect\n",
    "Though less significant for simple Coulomb counting:\n",
    "\n",
    "Resistance increases at low T\n",
    "\n",
    "High internal resistance causes greater power loss"
   ]
  },
  {
   "cell_type": "code",
   "execution_count": 1,
   "id": "ba0e9b54-aa8e-4a4a-b613-35444be01877",
   "metadata": {},
   "outputs": [
    {
     "name": "stdout",
     "output_type": "stream",
     "text": [
      "New SoC at 10°C: 69.2%\n"
     ]
    }
   ],
   "source": [
    "def temperature_corrected_capacity(nominal_capacity, temperature_c):\n",
    "    \"\"\"\n",
    "    Adjust capacity based on temperature.\n",
    "    Capacity decreases ~0.5% per °C below 25°C.\n",
    "    \"\"\"\n",
    "    if temperature_c < 25:\n",
    "        reduction_factor = 1 - 0.005 * (25 - temperature_c)\n",
    "    else:\n",
    "        reduction_factor = 1  # No gain above 25°C (can be refined)\n",
    "    return nominal_capacity * reduction_factor\n",
    "\n",
    "\n",
    "def ah_integration_temp(soc_initial, current, time_step, nominal_capacity, temperature_c):\n",
    "    \"\"\"\n",
    "    Estimate SoC using Ah integration with temperature-corrected capacity.\n",
    "    soc_initial: Initial SoC (0 to 1)\n",
    "    current: Current in A (positive for charge, negative for discharge)\n",
    "    time_step: Time interval in hours\n",
    "    nominal_capacity: Battery capacity in Ah at 25°C\n",
    "    temperature_c: Current temperature in °C\n",
    "    \"\"\"\n",
    "    capacity_effective = temperature_corrected_capacity(nominal_capacity, temperature_c)\n",
    "    charge_change = current * time_step  # Ah\n",
    "    soc_change = charge_change / capacity_effective\n",
    "    soc_new = soc_initial + soc_change\n",
    "    return max(0, min(1, soc_new))  # Clamp SoC between 0 and 1\n",
    "\n",
    "\n",
    "# Example usage\n",
    "soc_0 = 0.8          # 80%\n",
    "current = -5         # 5A discharge\n",
    "time_step = 2        # 2 hours\n",
    "capacity = 100       # 100 Ah at 25°C\n",
    "temperature = 10     # 10°C\n",
    "\n",
    "soc = ah_integration_temp(soc_0, current, time_step, capacity, temperature)\n",
    "print(f\"New SoC at {temperature}°C: {soc * 100:.1f}%\")\n"
   ]
  },
  {
   "cell_type": "code",
   "execution_count": null,
   "id": "93934ded-9cab-4091-a7b4-de227a08517c",
   "metadata": {},
   "outputs": [],
   "source": []
  }
 ],
 "metadata": {
  "kernelspec": {
   "display_name": "Python 3 (ipykernel)",
   "language": "python",
   "name": "python3"
  },
  "language_info": {
   "codemirror_mode": {
    "name": "ipython",
    "version": 3
   },
   "file_extension": ".py",
   "mimetype": "text/x-python",
   "name": "python",
   "nbconvert_exporter": "python",
   "pygments_lexer": "ipython3",
   "version": "3.9.18"
  }
 },
 "nbformat": 4,
 "nbformat_minor": 5
}
