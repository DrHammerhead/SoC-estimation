{
 "cells": [
  {
   "attachments": {},
   "cell_type": "markdown",
   "id": "48c98deb-4a25-4d18-9d87-fd7cb9d0090a",
   "metadata": {},
   "source": [
    "State of Charge (SoC) Estimation Methods: Overview and Comparison\n",
    "In battery management systems (BMS), State of Charge (SoC) is like a fuel gauge for batteries — it tells how much usable energy remains.\n",
    "However, you can't measure SoC directly, like you can measure voltage or current. Instead, we estimate it.\n",
    "\n",
    "There are five major classes of SoC estimation methods:\n",
    " \n",
    "1) Direct Measurement (OCV), 2) Coulomb Counting (Ah-Integration), 3) Model-Based Estimation 4) Adaptive / Observer-based and 5) Data-Driven / AI-based"
   ]
  },
  {
   "cell_type": "code",
   "execution_count": 1,
   "id": "521e8d06-b8d8-49e8-9ce3-9b64efd533aa",
   "metadata": {},
   "outputs": [
    {
     "name": "stdout",
     "output_type": "stream",
     "text": [
      "New SoC: 70.0%\n"
     ]
    }
   ],
   "source": [
    "def ah_integration(soc_initial, current, time_step, capacity):\n",
    "    \"\"\"\n",
    "    Estimate SoC using Ah integration.\n",
    "    soc_initial: Initial SoC (fraction, 0 to 1)\n",
    "    current: Current in A (positive for charge, negative for discharge)\n",
    "    time_step: Time interval in hours\n",
    "    capacity: Battery capacity in Ah\n",
    "    \"\"\"\n",
    "    charge_change = current * time_step  # Ah added or removed\n",
    "    soc_change = charge_change / capacity\n",
    "    soc_new = soc_initial + soc_change\n",
    "    return max(0, min(1, soc_new))  # Clamp between 0 and 1\n",
    "\n",
    "# Example usage\n",
    "soc_0 = 0.8  # 80%\n",
    "current = -5 # 5A discharge\n",
    "time_step = 2  # 2 hours\n",
    "capacity = 100  # 100 Ah\n",
    "\n",
    "soc = ah_integration(soc_0, current, time_step, capacity)\n",
    "print(f\"New SoC: {soc * 100:.1f}%\")"
   ]
  },
  {
   "cell_type": "code",
   "execution_count": 2,
   "id": "bc1b6f35-af02-49cc-94a9-981268cacd2f",
   "metadata": {},
   "outputs": [
    {
     "name": "stdout",
     "output_type": "stream",
     "text": [
      "New SoC: 60.0%\n"
     ]
    }
   ],
   "source": [
    "soc_0 = 0.7  # 70%\n",
    "current = -10 # 10A discharge\n",
    "time_step = 1  # 1 hours\n",
    "capacity = 100  # 100 Ah\n",
    "\n",
    "soc = ah_integration(soc_0, current, time_step, capacity)\n",
    "print(f\"New SoC: {soc * 100:.1f}%\")"
   ]
  },
  {
   "cell_type": "code",
   "execution_count": 3,
   "id": "91986fdc-f286-4c3f-89d5-f29fbe455b54",
   "metadata": {},
   "outputs": [
    {
     "name": "stdout",
     "output_type": "stream",
     "text": [
      "SoC: 50.0%\n"
     ]
    }
   ],
   "source": [
    "def ocv_to_soc(voltage, ocv_table):\n",
    "    \"\"\"\n",
    "    Estimate SoC from OCV using interpolation.\n",
    "    voltage: Measured open-circuit voltage (V)\n",
    "    ocv_table: Dictionary of {voltage: soc} pairs\n",
    "    \"\"\"\n",
    "    voltages = sorted(ocv_table.keys())\n",
    "    socs = [ocv_table[v] for v in voltages]\n",
    "    \n",
    "    if voltage <= voltages[0]:\n",
    "        return socs[0]\n",
    "    if voltage >= voltages[-1]:\n",
    "        return socs[-1]\n",
    "    \n",
    "    # Linear interpolation\n",
    "    for i in range(len(voltages) - 1):\n",
    "        if voltages[i] <= voltage < voltages[i + 1]:\n",
    "            v0, v1 = voltages[i], voltages[i + 1]\n",
    "            s0, s1 = socs[i], socs[i + 1]\n",
    "            soc = s0 + (s1 - s0) * (voltage - v0) / (v1 - v0)\n",
    "            return soc\n",
    "\n",
    "# Example OCV-SoC table\n",
    "ocv_table = {3.6: 0.2, 3.8: 0.5, 4.0: 0.8}\n",
    "voltage = 3.8\n",
    "\n",
    "soc = ocv_to_soc(voltage, ocv_table)\n",
    "print(f\"SoC: {soc * 100:.1f}%\")"
   ]
  },
  {
   "cell_type": "code",
   "execution_count": 4,
   "id": "61c445c3-32b6-4b91-9fcf-dd67e168f2ff",
   "metadata": {},
   "outputs": [
    {
     "name": "stdout",
     "output_type": "stream",
     "text": [
      "SoC: 65.0%\n"
     ]
    }
   ],
   "source": [
    "# Enhanced Version (Optional)\n",
    "# Here’s a polished version with some improvements:  20 Mar25\n",
    "def ocv_to_soc(voltage, ocv_table):\n",
    "    \"\"\"\n",
    "    Estimate SoC from OCV using interpolation.\n",
    "    voltage: Measured open-circuit voltage (V)\n",
    "    ocv_table: Dictionary of {voltage: soc} pairs\n",
    "    \"\"\"\n",
    "    if not ocv_table:\n",
    "        raise ValueError(\"OCV table cannot be empty\")\n",
    "    \n",
    "    voltages = sorted(ocv_table.keys())\n",
    "    socs = [ocv_table[v] for v in voltages]\n",
    "    \n",
    "    if voltage <= voltages[0]:\n",
    "        return socs[0]\n",
    "    if voltage >= voltages[-1]:\n",
    "        return socs[-1]\n",
    "    \n",
    "    for i in range(len(voltages) - 1):\n",
    "        if voltages[i] <= voltage < voltages[i + 1]:\n",
    "            v0, v1 = voltages[i], voltages[i + 1]\n",
    "            s0, s1 = socs[i], socs[i + 1]\n",
    "            soc = s0 + (s1 - s0) * (voltage - v0) / (v1 - v0)\n",
    "            return soc\n",
    "    \n",
    "    raise ValueError(\"Interpolation failed unexpectedly\")\n",
    "\n",
    "# Example with a more realistic LiFePO4-like table\n",
    "ocv_table = {2.5: 0.0, 3.0: 0.1, 3.2: 0.4, 3.3: 0.9, 3.6: 1.0}\n",
    "voltage = 3.25\n",
    "\n",
    "soc = ocv_to_soc(voltage, ocv_table)\n",
    "print(f\"SoC: {soc * 100:.1f}%\")  # Interpolates between 3.2 (40%) and 3.3 (90%)"
   ]
  }
 ],
 "metadata": {
  "kernelspec": {
   "display_name": "Python 3 (ipykernel)",
   "language": "python",
   "name": "python3"
  },
  "language_info": {
   "codemirror_mode": {
    "name": "ipython",
    "version": 3
   },
   "file_extension": ".py",
   "mimetype": "text/x-python",
   "name": "python",
   "nbconvert_exporter": "python",
   "pygments_lexer": "ipython3",
   "version": "3.9.18"
  }
 },
 "nbformat": 4,
 "nbformat_minor": 5
}
