{
 "cells": [
  {
   "cell_type": "code",
   "execution_count": 1,
   "id": "521e8d06-b8d8-49e8-9ce3-9b64efd533aa",
   "metadata": {},
   "outputs": [
    {
     "name": "stdout",
     "output_type": "stream",
     "text": [
      "New SoC: 70.0%\n"
     ]
    }
   ],
   "source": [
    "def ah_integration(soc_initial, current, time_step, capacity):\n",
    "    \"\"\"\n",
    "    Estimate SoC using Ah integration.\n",
    "    soc_initial: Initial SoC (fraction, 0 to 1)\n",
    "    current: Current in A (positive for charge, negative for discharge)\n",
    "    time_step: Time interval in hours\n",
    "    capacity: Battery capacity in Ah\n",
    "    \"\"\"\n",
    "    charge_change = current * time_step  # Ah added or removed\n",
    "    soc_change = charge_change / capacity\n",
    "    soc_new = soc_initial + soc_change\n",
    "    return max(0, min(1, soc_new))  # Clamp between 0 and 1\n",
    "\n",
    "# Example usage\n",
    "soc_0 = 0.8  # 80%\n",
    "current = -5 # 5A discharge\n",
    "time_step = 2  # 2 hours\n",
    "capacity = 100  # 100 Ah\n",
    "\n",
    "soc = ah_integration(soc_0, current, time_step, capacity)\n",
    "print(f\"New SoC: {soc * 100:.1f}%\")"
   ]
  },
  {
   "cell_type": "code",
   "execution_count": 2,
   "id": "91986fdc-f286-4c3f-89d5-f29fbe455b54",
   "metadata": {},
   "outputs": [
    {
     "name": "stdout",
     "output_type": "stream",
     "text": [
      "SoC: 50.0%\n"
     ]
    }
   ],
   "source": [
    "def ocv_to_soc(voltage, ocv_table):\n",
    "    \"\"\"\n",
    "    Estimate SoC from OCV using interpolation.\n",
    "    voltage: Measured open-circuit voltage (V)\n",
    "    ocv_table: Dictionary of {voltage: soc} pairs\n",
    "    \"\"\"\n",
    "    voltages = sorted(ocv_table.keys())\n",
    "    socs = [ocv_table[v] for v in voltages]\n",
    "    \n",
    "    if voltage <= voltages[0]:\n",
    "        return socs[0]\n",
    "    if voltage >= voltages[-1]:\n",
    "        return socs[-1]\n",
    "    \n",
    "    # Linear interpolation\n",
    "    for i in range(len(voltages) - 1):\n",
    "        if voltages[i] <= voltage < voltages[i + 1]:\n",
    "            v0, v1 = voltages[i], voltages[i + 1]\n",
    "            s0, s1 = socs[i], socs[i + 1]\n",
    "            soc = s0 + (s1 - s0) * (voltage - v0) / (v1 - v0)\n",
    "            return soc\n",
    "\n",
    "# Example OCV-SoC table\n",
    "ocv_table = {3.6: 0.2, 3.8: 0.5, 4.0: 0.8}\n",
    "voltage = 3.8\n",
    "\n",
    "soc = ocv_to_soc(voltage, ocv_table)\n",
    "print(f\"SoC: {soc * 100:.1f}%\")"
   ]
  },
  {
   "cell_type": "code",
   "execution_count": 3,
   "id": "61c445c3-32b6-4b91-9fcf-dd67e168f2ff",
   "metadata": {},
   "outputs": [
    {
     "name": "stdout",
     "output_type": "stream",
     "text": [
      "SoC: 65.0%\n"
     ]
    }
   ],
   "source": [
    "# Enhanced Version (Optional)\n",
    "# Here’s a polished version with some improvements:  20 Mar25\n",
    "def ocv_to_soc(voltage, ocv_table):\n",
    "    \"\"\"\n",
    "    Estimate SoC from OCV using interpolation.\n",
    "    voltage: Measured open-circuit voltage (V)\n",
    "    ocv_table: Dictionary of {voltage: soc} pairs\n",
    "    \"\"\"\n",
    "    if not ocv_table:\n",
    "        raise ValueError(\"OCV table cannot be empty\")\n",
    "    \n",
    "    voltages = sorted(ocv_table.keys())\n",
    "    socs = [ocv_table[v] for v in voltages]\n",
    "    \n",
    "    if voltage <= voltages[0]:\n",
    "        return socs[0]\n",
    "    if voltage >= voltages[-1]:\n",
    "        return socs[-1]\n",
    "    \n",
    "    for i in range(len(voltages) - 1):\n",
    "        if voltages[i] <= voltage < voltages[i + 1]:\n",
    "            v0, v1 = voltages[i], voltages[i + 1]\n",
    "            s0, s1 = socs[i], socs[i + 1]\n",
    "            soc = s0 + (s1 - s0) * (voltage - v0) / (v1 - v0)\n",
    "            return soc\n",
    "    \n",
    "    raise ValueError(\"Interpolation failed unexpectedly\")\n",
    "\n",
    "# Example with a more realistic LiFePO4-like table\n",
    "ocv_table = {2.5: 0.0, 3.0: 0.1, 3.2: 0.4, 3.3: 0.9, 3.6: 1.0}\n",
    "voltage = 3.25\n",
    "\n",
    "soc = ocv_to_soc(voltage, ocv_table)\n",
    "print(f\"SoC: {soc * 100:.1f}%\")  # Interpolates between 3.2 (40%) and 3.3 (90%)"
   ]
  },
  {
   "cell_type": "code",
   "execution_count": 4,
   "id": "31a6d0ca-4c89-4e66-9c9d-73d2db50485f",
   "metadata": {
    "scrolled": true
   },
   "outputs": [
    {
     "name": "stdout",
     "output_type": "stream",
     "text": [
      "0.04499999999999993\n",
      "SoC: 65.0%\n"
     ]
    }
   ],
   "source": [
    "def internal_resistance_soc(v_ocv, v_load, current, resistance_table):\n",
    "    \"\"\"\n",
    "    Estimate SoC from internal resistance.\n",
    "    v_ocv: Open-circuit voltage (V)\n",
    "    v_load: Voltage under load (V)\n",
    "    current: Load current (A)\n",
    "    resistance_table: Dictionary of {resistance: soc} pairs\n",
    "    \"\"\"\n",
    "    r_int = (v_ocv - v_load) / current\n",
    "    print(r_int)\n",
    "    resistances = sorted(resistance_table.keys())\n",
    "    socs = [resistance_table[r] for r in resistances]\n",
    "    \n",
    "    if r_int <= resistances[0]:\n",
    "        return socs[0]\n",
    "    if r_int >= resistances[-1]:\n",
    "        return socs[-1]\n",
    "    \n",
    "    # Linear interpolation\n",
    "    for i in range(len(resistances) - 1):\n",
    "        if resistances[i] <= r_int < resistances[i + 1]:\n",
    "            r0, r1 = resistances[i], resistances[i + 1]\n",
    "            s0, s1 = socs[i], socs[i + 1]\n",
    "            soc = s0 + (s1 - s0) * (r_int - r0) / (r1 - r0)\n",
    "            # print(soc)\n",
    "            # print(s0, s1,r_int, r0, r1)\n",
    "            return soc\n",
    "\n",
    "# Example resistance-SoC table\n",
    "resistance_table = {0.04: 0.8, 0.05: 0.5, 0.06: 0.2}\n",
    "v_ocv = 3.80\n",
    "v_load = 3.71\n",
    "current = 2\n",
    "\n",
    "\n",
    "soc = internal_resistance_soc(v_ocv, v_load, current, resistance_table)\n",
    "# print(soc)\n",
    "print(f\"SoC: {soc * 100:.1f}%\")"
   ]
  },
  {
   "cell_type": "code",
   "execution_count": 21,
   "id": "cfc598b2-4a33-46fa-9519-b171406bf73d",
   "metadata": {},
   "outputs": [
    {
     "data": {
      "text/plain": [
       "(0.04999999999999982, 3.8, 3.7, 2)"
      ]
     },
     "execution_count": 21,
     "metadata": {},
     "output_type": "execute_result"
    }
   ],
   "source": [
    "r_int = (v_ocv - v_load) / current\n",
    "r_int, v_ocv, v_load, current"
   ]
  },
  {
   "cell_type": "code",
   "execution_count": 4,
   "id": "04b56f8e-24d2-4412-9e65-b5e9ea495b7f",
   "metadata": {},
   "outputs": [
    {
     "name": "stdout",
     "output_type": "stream",
     "text": [
      "Predicted SoC: 75.0%\n",
      "Updated SoC: 80.0%\n"
     ]
    }
   ],
   "source": [
    "import numpy as np\n",
    "\n",
    "class KalmanFilterSoC:\n",
    "    def __init__(self, soc_initial, capacity, r_int, process_noise, measurement_noise):\n",
    "        self.soc = soc_initial  # State estimate\n",
    "        self.capacity = capacity  # Ah\n",
    "        self.r_int = r_int  # Internal resistance (Ohm)\n",
    "        self.P = 0.10  # Estimate error covariance\n",
    "        self.Q = process_noise  # Process noise covariance\n",
    "        self.R = measurement_noise  # Measurement noise covariance\n",
    "\n",
    "    def ocv(self, soc):\n",
    "        # Simplified linear OCV model: OCV = 3.5 + 0.5 * SoC\n",
    "        return 3.5 + 0.5 * soc\n",
    "\n",
    "    def predict(self, current, dt):\n",
    "        # State prediction (Coulomb counting)\n",
    "        self.soc = self.soc - (current * dt) / self.capacity\n",
    "        self.soc = max(0, min(1, self.soc))  # Clamp SoC\n",
    "        # Update error covariance\n",
    "        self.P = self.P + self.Q\n",
    "\n",
    "    def update(self, voltage_measured, current):\n",
    "        # Measurement prediction\n",
    "        v_pred = self.ocv(self.soc)- current * self.r_int\n",
    "        # Innovation (measurement residual)\n",
    "        y = voltage_measured - v_pred\n",
    "        # Innovation covariance\n",
    "        S = self.P * 0.5**2 + self.R  # 0.5 is d(OCV)/d(SoC)\n",
    "        # Kalman gain\n",
    "        K = self.P * 0.5 / S\n",
    "        # Update state\n",
    "        self.soc = self.soc + K * y\n",
    "        self.soc = max(0, min(1, self.soc))\n",
    "        # Update error covariance\n",
    "        self.P = (1 - K * 0.5) * self.P\n",
    "\n",
    "# Example usage\n",
    "kf = KalmanFilterSoC(soc_initial=0.8, capacity=100, r_int=0.05, process_noise=1e-4, measurement_noise=1e-1)\n",
    "current = 5  # 5A discharge\n",
    "dt = 1  # 1 hour\n",
    "voltage_measured = 3.75  # Measured voltage\n",
    "\n",
    "kf.predict(current, dt)\n",
    "print(f\"Predicted SoC: {kf.soc * 100:.1f}%\")\n",
    "kf.update(voltage_measured, current)\n",
    "print(f\"Updated SoC: {kf.soc * 100:.1f}%\")\n",
    "\n"
   ]
  },
  {
   "cell_type": "code",
   "execution_count": 78,
   "id": "9e8d67ba-9f28-4838-8c5d-dafba85afc97",
   "metadata": {},
   "outputs": [
    {
     "name": "stdout",
     "output_type": "stream",
     "text": [
      "Predicted SoC: 75.0%\n",
      "3.625\n",
      "Updated SoC: 76.2%\n"
     ]
    }
   ],
   "source": [
    "class KalmanFilterSoC:\n",
    "    def __init__(self, soc_initial, capacity, r_int, process_noise, measurement_noise):\n",
    "        self.soc = soc_initial\n",
    "        self.capacity = capacity\n",
    "        self.r_int = r_int\n",
    "        self.P = 0.1  # Lower initial uncertainty\n",
    "        self.Q = 1e-4\n",
    "        self.R = 0.5 # Old 0.1 new 0.5. Higher measurement noise to less dependent on the Measured Voltage (i.e. 0.5) \n",
    "\n",
    "    def ocv(self, soc):\n",
    "        return 3.5 + 0.5 * soc\n",
    "\n",
    "    def predict(self, current, dt):\n",
    "        self.soc = self.soc - (current * dt) / self.capacity\n",
    "        self.soc = max(0, min(1, self.soc))\n",
    "        self.P = self.P + self.Q\n",
    "\n",
    "    def update(self, voltage_measured, current):\n",
    "        v_pred = self.ocv(self.soc) - current * self.r_int\n",
    "        print(v_pred)\n",
    "        y = voltage_measured - v_pred\n",
    "        S = self.P * 0.5**2 + self.R\n",
    "        K = self.P * 0.5 / S\n",
    "        self.soc = self.soc + K * y\n",
    "        self.soc = max(0, min(1, self.soc))\n",
    "        self.P = (1 - K * 0.5) * self.P\n",
    "\n",
    "kf = KalmanFilterSoC(0.8, 100, 0.05, 1e-3, 0.1)\n",
    "kf.predict(5, 1) # 5 is discharging 5A \n",
    "print(f\"Predicted SoC: {kf.soc * 100:.1f}%\")  # 75.0%\n",
    "kf.update(3.75, 5)  # Old 3.75 New 3.725 Realistic voltage\n",
    "print(f\"Updated SoC: {kf.soc * 100:.1f}%\")  # ~74.5%"
   ]
  },
  {
   "cell_type": "code",
   "execution_count": 5,
   "id": "a86d5241-1f20-4dad-9afa-dabfb04cae15",
   "metadata": {},
   "outputs": [
    {
     "name": "stdout",
     "output_type": "stream",
     "text": [
      "Predicted SoC: 75.0%\n",
      "Updated SoC: 75.9%\n"
     ]
    }
   ],
   "source": [
    "class ExtendedKalmanFilterSoC:\n",
    "    def __init__(self, soc_initial, capacity, r_int, process_noise, measurement_noise):\n",
    "        self.soc = soc_initial\n",
    "        self.capacity = capacity\n",
    "        self.r_int = r_int\n",
    "        self.P = 0.1\n",
    "        self.Q = process_noise\n",
    "        self.R = measurement_noise\n",
    "\n",
    "    def ocv(self, soc):\n",
    "        # Nonlinear OCV model\n",
    "        return 3.6 + 0.6 * soc - 0.1 * soc**2\n",
    "\n",
    "    def ocv_derivative(self, soc):\n",
    "        # Jacobian: d(OCV)/d(SoC)\n",
    "        return 0.6 - 0.2 * soc\n",
    "\n",
    "    def predict(self, current, dt):\n",
    "        self.soc = self.soc + (current * dt) / self.capacity\n",
    "        self.soc = max(0, min(1, self.soc))\n",
    "        self.P = self.P + self.Q\n",
    "\n",
    "    def update(self, voltage_measured, current):\n",
    "        v_pred = self.ocv(self.soc) + current * self.r_int\n",
    "        y = voltage_measured - v_pred\n",
    "        H = self.ocv_derivative(self.soc)  # Linearization\n",
    "        S = H * self.P * H + self.R\n",
    "        K = self.P * H / S\n",
    "        self.soc = self.soc + K * y\n",
    "        self.soc = max(0, min(1, self.soc))\n",
    "        self.P = (1 - K * H) * self.P\n",
    "\n",
    "# Example usage\n",
    "# ekf = ExtendedKalmanFilterSoC(soc_initial=0.8, capacity=100, r_int=0.05, process_noise=1e-4, measurement_noise=1e-2)\n",
    "ekf = ExtendedKalmanFilterSoC(soc_initial=0.8, capacity=100, r_int=0.05, process_noise=1e-4, measurement_noise=1e-2)\n",
    "current = -5\n",
    "dt = 1\n",
    "voltage_measured = 3.75\n",
    "\n",
    "ekf.predict(current, dt)\n",
    "print(f\"Predicted SoC: {ekf.soc * 100:.1f}%\")\n",
    "ekf.update(voltage_measured, current)\n",
    "print(f\"Updated SoC: {ekf.soc * 100:.1f}%\")"
   ]
  },
  {
   "cell_type": "code",
   "execution_count": 9,
   "id": "2b2de6c0-8b37-4acb-9bda-6770111b80fb",
   "metadata": {},
   "outputs": [
    {
     "name": "stdout",
     "output_type": "stream",
     "text": [
      "Predicted SoC: 75.0%\n",
      "3.74375\n",
      "Updated SoC: 75.9%\n"
     ]
    }
   ],
   "source": [
    "# ============================================================================\n",
    "# Extended Kalman Filter for State of Charge (SoC) Estimation\n",
    "# \n",
    "# Version: Fixed by Perplexity AI Assistant\n",
    "# Date: 6 March 2025\n",
    "# \n",
    "# This code implements an Extended Kalman Filter (EKF) to estimate the State of Charge (SoC) of a battery.\n",
    "# It includes improvements for robustness and clarity, such as proper initialization and updates of the state covariance.\n",
    "# ============================================================================\n",
    "\n",
    "class ExtendedKalmanFilterSoC:\n",
    "    \"\"\"\n",
    "    This class implements an Extended Kalman Filter (EKF) for estimating the State of Charge (SoC) of a battery.\n",
    "    \n",
    "    Parameters:\n",
    "    - soc_initial: Initial State of Charge (0 to 1)\n",
    "    - capacity: Battery capacity in Ah\n",
    "    - r_int: Internal resistance of the battery\n",
    "    - process_noise: Process noise variance\n",
    "    - measurement_noise: Measurement noise variance\n",
    "    \"\"\"\n",
    "\n",
    "    def __init__(self, soc_initial, capacity, r_int, process_noise, measurement_noise):\n",
    "        # Initialize the state and parameters of the EKF\n",
    "        self.soc = soc_initial  # Initial State of Charge\n",
    "        self.capacity = capacity  # Battery capacity in Ah\n",
    "        self.r_int = r_int  # Internal resistance of the battery\n",
    "        self.P = 1.0  # Initialize covariance with higher uncertainty\n",
    "        self.Q = process_noise  # Process noise variance\n",
    "        self.R = measurement_noise  # Measurement noise variance\n",
    "\n",
    "    def ocv(self, soc):\n",
    "        # Nonlinear Open Circuit Voltage (OCV) model\n",
    "        # This function returns the OCV based on the current SoC\n",
    "        return 3.6 + 0.6 * soc - 0.1 * soc**2\n",
    "\n",
    "    def ocv_derivative(self, soc):\n",
    "        # Jacobian of the OCV model: d(OCV)/d(SoC)\n",
    "        # This derivative is used for linearization in the EKF update step\n",
    "        return 0.6 - 0.2 * soc\n",
    "\n",
    "    def predict(self, current, dt):\n",
    "        \"\"\"\n",
    "        Predict the next state based on the current state and inputs.\n",
    "\n",
    "        Parameters:\n",
    "        - current: Current drawn from the battery (A)\n",
    "        - dt: Time step (s)\n",
    "        \"\"\"\n",
    "        # State transition model: Update SoC based on current and time step\n",
    "        self.soc = self.soc + (current * dt) / self.capacity\n",
    "        # Clamp SoC to ensure it remains within the valid range (0 to 1)\n",
    "        self.soc = max(0, min(1, self.soc))\n",
    "        \n",
    "        # Update covariance: Consider the effect of system dynamics\n",
    "        # Assuming a simple linear state transition model for this example\n",
    "        F = 1  # Jacobian of state transition model (assuming linear for simplicity)\n",
    "        self.P = F**2 * self.P + self.Q  # Update covariance\n",
    "\n",
    "    def update(self, voltage_measured, current):\n",
    "        \"\"\"\n",
    "        Update the state estimate based on a measurement.\n",
    "\n",
    "        Parameters:\n",
    "        - voltage_measured: Measured voltage of the battery (V)\n",
    "        - current: Current drawn from the battery (A)\n",
    "        \"\"\"\n",
    "        # Predicted voltage based on current SoC and current\n",
    "        v_pred = self.ocv(self.soc) + current * self.r_int\n",
    "        print(v_pred)\n",
    "        # Innovation: Difference between measured and predicted voltage\n",
    "        y = voltage_measured - v_pred\n",
    "        \n",
    "        # Linearization: Use the Jacobian of the OCV model\n",
    "        H = self.ocv_derivative(self.soc)\n",
    "        \n",
    "        # Compute innovation covariance\n",
    "        S = H * self.P * H + self.R\n",
    "        \n",
    "        # Compute Kalman gain\n",
    "        K = self.P * H / S\n",
    "        \n",
    "        # Update state estimate\n",
    "        self.soc = self.soc + K * y\n",
    "        # Clamp SoC to ensure it remains within the valid range (0 to 1)\n",
    "        self.soc = max(0, min(1, self.soc))\n",
    "        \n",
    "        # Update covariance\n",
    "        self.P = (1 - K * H) * self.P\n",
    "\n",
    "# Example usage\n",
    "ekf = ExtendedKalmanFilterSoC(soc_initial=0.8, capacity=100, r_int=0.05, process_noise=1e-4, measurement_noise=1e-1)\n",
    "current = -5  # Current drawn from the battery (A)\n",
    "dt = 1  # Time step (s)\n",
    "voltage_measured = 3.75  # Measured voltage of the battery (V) for Discharging\n",
    "# voltage_measured = 4.2   # Measured voltage of the battery (V) for Charging\n",
    "\n",
    "# Predict the next state\n",
    "ekf.predict(current, dt)\n",
    "print(f\"Predicted SoC: {ekf.soc * 100:.1f}%\")\n",
    "\n",
    "# Update the state estimate based on a measurement\n",
    "ekf.update(voltage_measured, current)\n",
    "print(f\"Updated SoC: {ekf.soc * 100:.1f}%\")\n"
   ]
  },
  {
   "cell_type": "code",
   "execution_count": 95,
   "id": "3f537be5-05fe-4f82-b469-3ff5b510793e",
   "metadata": {},
   "outputs": [
    {
     "name": "stdout",
     "output_type": "stream",
     "text": [
      "4.016\n"
     ]
    }
   ],
   "source": [
    "print(3.6 + 0.6 * 0.8 - 0.1 * 0.8**2)"
   ]
  },
  {
   "cell_type": "code",
   "execution_count": 7,
   "id": "9c0f84ce-692c-4601-a18b-c128aa3ba966",
   "metadata": {},
   "outputs": [
    {
     "name": "stdout",
     "output_type": "stream",
     "text": [
      "3.99375\n"
     ]
    }
   ],
   "source": [
    "print(3.6 + 0.6 * 0.75 - 0.1 * 0.75**2)\n"
   ]
  },
  {
   "cell_type": "code",
   "execution_count": null,
   "id": "a854302d-b8f8-49f5-aa1b-5be7fb44920b",
   "metadata": {},
   "outputs": [],
   "source": []
  }
 ],
 "metadata": {
  "kernelspec": {
   "display_name": "Python 3 (ipykernel)",
   "language": "python",
   "name": "python3"
  },
  "language_info": {
   "codemirror_mode": {
    "name": "ipython",
    "version": 3
   },
   "file_extension": ".py",
   "mimetype": "text/x-python",
   "name": "python",
   "nbconvert_exporter": "python",
   "pygments_lexer": "ipython3",
   "version": "3.9.18"
  }
 },
 "nbformat": 4,
 "nbformat_minor": 5
}
